{
 "cells": [
  {
   "cell_type": "code",
   "execution_count": 1,
   "metadata": {},
   "outputs": [],
   "source": [
    "from collections import defaultdict\n",
    "x= defaultdict(lambda:100-1)"
   ]
  },
  {
   "cell_type": "code",
   "execution_count": 8,
   "metadata": {},
   "outputs": [
    {
     "name": "stdout",
     "output_type": "stream",
     "text": [
      "99\n",
      "99\n",
      "99\n",
      "99\n",
      "99\n",
      "99\n",
      "99\n",
      "99\n",
      "99\n",
      "99\n"
     ]
    }
   ],
   "source": [
    "for i in range(10):\n",
    "    print(x[i])"
   ]
  },
  {
   "cell_type": "code",
   "execution_count": 9,
   "metadata": {},
   "outputs": [],
   "source": [
    "from collections import Counter\n",
    "vocab_size=10\n",
    "text='we all like kobe bryant for his heroic performance in the league'\n",
    "most_common_ch2ix={\n",
    "            x[0]:i\n",
    "            for i ,x in enumerate(Counter(text).most_common()[:(vocab_size-1)])\n",
    "        }"
   ]
  },
  {
   "cell_type": "code",
   "execution_count": 18,
   "metadata": {},
   "outputs": [
    {
     "name": "stdout",
     "output_type": "stream",
     "text": [
      " \n",
      "0\n",
      "e\n",
      "1\n",
      "r\n",
      "2\n",
      "a\n",
      "3\n",
      "l\n",
      "4\n",
      "i\n",
      "5\n",
      "o\n",
      "6\n",
      "n\n",
      "7\n",
      "h\n",
      "8\n"
     ]
    }
   ],
   "source": [
    "for key in most_common_ch2ix:\n",
    "    print(key)\n",
    "    print(most_common_ch2ix[key])"
   ]
  }
 ],
 "metadata": {
  "kernelspec": {
   "display_name": "base",
   "language": "python",
   "name": "python3"
  },
  "language_info": {
   "codemirror_mode": {
    "name": "ipython",
    "version": 3
   },
   "file_extension": ".py",
   "mimetype": "text/x-python",
   "name": "python",
   "nbconvert_exporter": "python",
   "pygments_lexer": "ipython3",
   "version": "3.9.7"
  },
  "orig_nbformat": 4,
  "vscode": {
   "interpreter": {
    "hash": "9454f094a5c1e8e6b91f3e6f0db0dad0551253d40628effd67a60000e11016e9"
   }
  }
 },
 "nbformat": 4,
 "nbformat_minor": 2
}
