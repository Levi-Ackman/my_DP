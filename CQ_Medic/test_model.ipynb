{
 "cells": [
  {
   "cell_type": "code",
   "execution_count": 13,
   "metadata": {},
   "outputs": [
    {
     "name": "stdout",
     "output_type": "stream",
     "text": [
      "The autoreload extension is already loaded. To reload it, use:\n",
      "  %reload_ext autoreload\n"
     ]
    }
   ],
   "source": [
    "%load_ext autoreload\n",
    "%autoreload 2"
   ]
  },
  {
   "cell_type": "code",
   "execution_count": 14,
   "metadata": {},
   "outputs": [
    {
     "name": "stdout",
     "output_type": "stream",
     "text": [
      "torch.Size([16, 30, 1])\n",
      "torch.Size([16, 10])\n",
      "tensor([[18., 27., 20., 18., 14., 19., 15., 12.,  8.,  9.],\n",
      "        [27., 20., 18., 14., 19., 15., 12.,  8.,  9., 13.],\n",
      "        [20., 18., 14., 19., 15., 12.,  8.,  9., 13., 13.],\n",
      "        [18., 14., 19., 15., 12.,  8.,  9., 13., 13., 11.],\n",
      "        [14., 19., 15., 12.,  8.,  9., 13., 13., 11., 10.],\n",
      "        [19., 15., 12.,  8.,  9., 13., 13., 11., 10.,  9.],\n",
      "        [15., 12.,  8.,  9., 13., 13., 11., 10.,  9.,  8.],\n",
      "        [12.,  8.,  9., 13., 13., 11., 10.,  9.,  8., 10.],\n",
      "        [ 8.,  9., 13., 13., 11., 10.,  9.,  8., 10.,  4.],\n",
      "        [ 9., 13., 13., 11., 10.,  9.,  8., 10.,  4.,  6.],\n",
      "        [13., 13., 11., 10.,  9.,  8., 10.,  4.,  6.,  6.],\n",
      "        [13., 11., 10.,  9.,  8., 10.,  4.,  6.,  6.,  3.],\n",
      "        [11., 10.,  9.,  8., 10.,  4.,  6.,  6.,  3.,  8.],\n",
      "        [10.,  9.,  8., 10.,  4.,  6.,  6.,  3.,  8.,  8.],\n",
      "        [ 9.,  8., 10.,  4.,  6.,  6.,  3.,  8.,  8., 16.],\n",
      "        [ 8., 10.,  4.,  6.,  6.,  3.,  8.,  8., 16., 13.]])\n"
     ]
    }
   ],
   "source": [
    "from utils.train_val_test import h_d_train,h_d_val,h_d_test,get_h_f_dataloader\n",
    "span_len=30\n",
    "pre_len=10\n",
    "batch_size=16\n",
    "\n",
    "train_dataset=h_d_train(cut_len=span_len,slide_win_size=pre_len)\n",
    "train_dataloader=get_h_f_dataloader(train_dataset,batch_size,0)\n",
    "x,y=next(iter(train_dataloader))\n",
    "# print(x)\n",
    "print(x.shape)\n",
    "print(y.shape)\n",
    "print(y)"
   ]
  },
  {
   "cell_type": "code",
   "execution_count": 15,
   "metadata": {},
   "outputs": [
    {
     "name": "stdout",
     "output_type": "stream",
     "text": [
      "torch.Size([16, 30, 128])\n"
     ]
    }
   ],
   "source": [
    "from models.LSTM_FCN import BiLSTMBlock,FCNBlock,CrossModalityMultiAttentionHead,LSTM_FCN_2_Atten_Block,FeedforwardLayer,LSTM_FCN_2_Atten,MOCO_LSTM_FCN_2_Atten\n",
    "\n",
    "model_1=BiLSTMBlock(input_dim=1,output_dim=128,num_layers=3)\n",
    "y1=model_1(x)\n",
    "print(y1.shape)"
   ]
  },
  {
   "cell_type": "code",
   "execution_count": 5,
   "metadata": {},
   "outputs": [
    {
     "name": "stdout",
     "output_type": "stream",
     "text": [
      "torch.Size([16, 30, 128])\n"
     ]
    }
   ],
   "source": [
    "model_2=FCNBlock(input_dim=1,output_dim=128,num_layers=3)\n",
    "y2=model_2(x)\n",
    "print(y2.shape)"
   ]
  },
  {
   "cell_type": "code",
   "execution_count": 6,
   "metadata": {},
   "outputs": [
    {
     "name": "stdout",
     "output_type": "stream",
     "text": [
      "torch.Size([16, 30, 128])\n"
     ]
    }
   ],
   "source": [
    "model_3=CrossModalityMultiAttentionHead(input_dim=128,num_heads=8)\n",
    "y3=model_3(y2,y1,y1)\n",
    "print(y3.shape)"
   ]
  },
  {
   "cell_type": "code",
   "execution_count": 7,
   "metadata": {},
   "outputs": [
    {
     "name": "stdout",
     "output_type": "stream",
     "text": [
      "torch.Size([16, 30, 1])\n"
     ]
    }
   ],
   "source": [
    "# model_4=FeedforwardLayer(input_dim=7,hidden_dim=128)\n",
    "model_5=LSTM_FCN_2_Atten_Block(input_dim=1,hidden_dim=128)\n",
    "\n",
    "y5=model_5(x)\n",
    "print(y5.shape)"
   ]
  },
  {
   "cell_type": "code",
   "execution_count": 16,
   "metadata": {},
   "outputs": [
    {
     "name": "stdout",
     "output_type": "stream",
     "text": [
      "torch.Size([16, 10])\n"
     ]
    }
   ],
   "source": [
    "model_6=LSTM_FCN_2_Atten(\n",
    "    data_len=span_len,\n",
    "    pre_len=pre_len,\n",
    "    input_dim=1,\n",
    "    hidden_dim=16,\n",
    ")\n",
    "y6=model_6(x)\n",
    "print(y6.shape)"
   ]
  },
  {
   "cell_type": "code",
   "execution_count": 17,
   "metadata": {},
   "outputs": [
    {
     "name": "stdout",
     "output_type": "stream",
     "text": [
      "torch.Size([16, 16])\n"
     ]
    }
   ],
   "source": [
    "model_7=MOCO_LSTM_FCN_2_Atten(\n",
    "    data_len=span_len,\n",
    "    pre_len=pre_len,\n",
    "    input_dim=1,\n",
    "    hidden_dim=16,\n",
    ")\n",
    "y7=model_7(x)\n",
    "print(y7.shape)"
   ]
  }
 ],
 "metadata": {
  "kernelspec": {
   "display_name": "base",
   "language": "python",
   "name": "python3"
  },
  "language_info": {
   "codemirror_mode": {
    "name": "ipython",
    "version": 3
   },
   "file_extension": ".py",
   "mimetype": "text/x-python",
   "name": "python",
   "nbconvert_exporter": "python",
   "pygments_lexer": "ipython3",
   "version": "3.9.7"
  },
  "orig_nbformat": 4
 },
 "nbformat": 4,
 "nbformat_minor": 2
}
