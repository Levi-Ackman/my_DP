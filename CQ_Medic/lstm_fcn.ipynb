{
 "cells": [
  {
   "cell_type": "code",
   "execution_count": 9,
   "metadata": {},
   "outputs": [
    {
     "name": "stdout",
     "output_type": "stream",
     "text": [
      "The autoreload extension is already loaded. To reload it, use:\n",
      "  %reload_ext autoreload\n"
     ]
    }
   ],
   "source": [
    "%load_ext autoreload\n",
    "%autoreload 2"
   ]
  },
  {
   "cell_type": "code",
   "execution_count": 10,
   "metadata": {},
   "outputs": [],
   "source": [
    "import torch\n",
    "from models.layers import TransformerTimeSeriesForecast\n",
    "import torch.optim as optim \n",
    "from torch import nn\n",
    "from utils.auxiliary_fn import train_one_ep,evaluate_one_ep\n",
    "from models.LSTM_FCN import LSTM_FCN_2_Atten"
   ]
  },
  {
   "attachments": {},
   "cell_type": "markdown",
   "metadata": {},
   "source": [
    "# use whole set"
   ]
  },
  {
   "cell_type": "code",
   "execution_count": 11,
   "metadata": {},
   "outputs": [],
   "source": [
    "# from utils.dataset import Hand_foot_data_with_weath,get_h_f_dataloader,train_val_test_split\n",
    "\n",
    "# span_len=30\n",
    "# pre_len=1\n",
    "# batch_size=16\n",
    "# dataset=Hand_foot_data_with_weath(\n",
    "#                                 root_dir_1='./data/case_inf.csv',\n",
    "#                                 root_dir_2='./data/wea_proed_inf.csv',\n",
    "#                                 cut_len=span_len,\n",
    "#                                 slide_win_size=pre_len,\n",
    "#                                  )\n",
    "# print(len(dataset))\n",
    "# train_dataset,val_dataset,test_dataset=train_val_test_split(dataset,train_ratio=0.8,test_ratio=0.1,val_ratio=0.1)\n",
    "\n",
    "# train_dataloader=get_h_f_dataloader(train_dataset,batch_size,0)\n",
    "# val_dataloader=get_h_f_dataloader(val_dataset,batch_size,0)\n",
    "# test_dataloader=get_h_f_dataloader(test_dataset,batch_size,0)\n",
    "\n",
    "# x,y=next(iter(train_dataloader))\n",
    "# # print(x)\n",
    "# print(x.shape)\n",
    "# print(y.shape)\n",
    "# # print(y)\n"
   ]
  },
  {
   "attachments": {},
   "cell_type": "markdown",
   "metadata": {},
   "source": [
    "# split data"
   ]
  },
  {
   "cell_type": "code",
   "execution_count": 12,
   "metadata": {},
   "outputs": [
    {
     "name": "stdout",
     "output_type": "stream",
     "text": [
      "2\n",
      "torch.Size([32, 120, 1])\n",
      "torch.Size([32, 1])\n",
      "tensor([[ 57.],\n",
      "        [ 47.],\n",
      "        [ 85.],\n",
      "        [ 57.],\n",
      "        [ 70.],\n",
      "        [ 56.],\n",
      "        [ 56.],\n",
      "        [ 53.],\n",
      "        [ 64.],\n",
      "        [ 78.],\n",
      "        [ 79.],\n",
      "        [ 84.],\n",
      "        [ 63.],\n",
      "        [ 64.],\n",
      "        [ 49.],\n",
      "        [ 63.],\n",
      "        [ 74.],\n",
      "        [ 82.],\n",
      "        [ 64.],\n",
      "        [ 68.],\n",
      "        [ 59.],\n",
      "        [ 62.],\n",
      "        [ 91.],\n",
      "        [100.],\n",
      "        [105.],\n",
      "        [ 91.],\n",
      "        [ 94.],\n",
      "        [ 72.],\n",
      "        [ 89.],\n",
      "        [ 86.],\n",
      "        [100.],\n",
      "        [113.]])\n"
     ]
    },
    {
     "name": "stderr",
     "output_type": "stream",
     "text": [
      "d:\\kobe\\lib\\site-packages\\sklearn\\preprocessing\\_data.py:2583: UserWarning: n_quantiles (1000) is greater than the total number of samples (182). n_quantiles is set to n_samples.\n",
      "  warnings.warn(\n",
      "d:\\kobe\\lib\\site-packages\\sklearn\\preprocessing\\_data.py:2583: UserWarning: n_quantiles (1000) is greater than the total number of samples (182). n_quantiles is set to n_samples.\n",
      "  warnings.warn(\n"
     ]
    }
   ],
   "source": [
    "from utils.train_val_test import h_d_train,h_d_val,h_d_test,get_h_f_dataloader\n",
    "\n",
    "span_len=120\n",
    "pre_len=1\n",
    "batch_size=32\n",
    "\n",
    "train_dataset=h_d_train(cut_len=span_len,slide_win_size=pre_len)\n",
    "val_dataset=h_d_val(cut_len=span_len,slide_win_size=pre_len)\n",
    "test_dataset=h_d_test(cut_len=span_len,slide_win_size=pre_len)\n",
    "\n",
    "\n",
    "train_dataloader=get_h_f_dataloader(train_dataset,batch_size,0)\n",
    "val_dataloader=get_h_f_dataloader(val_dataset,batch_size,0)\n",
    "test_dataloader=get_h_f_dataloader(test_dataset,batch_size,0)\n",
    "\n",
    "print(len(val_dataloader))\n",
    "\n",
    "x,y=next(iter(train_dataloader))\n",
    "# print(x)\n",
    "print(x.shape)\n",
    "print(y.shape)\n",
    "print(y)\n",
    "\n"
   ]
  },
  {
   "cell_type": "markdown",
   "metadata": {},
   "source": [
    "# try transformer"
   ]
  },
  {
   "cell_type": "code",
   "execution_count": 13,
   "metadata": {},
   "outputs": [],
   "source": [
    "# model = TransformerTimeSeriesForecast(\n",
    "#     feature_dim=7,\n",
    "#     pre_len=pre_len,\n",
    "#     num_heads=8,\n",
    "#     hidden_dim=256,\n",
    "#     num_layers=10,\n",
    "#     data_len=span_len\n",
    "#     )\n",
    "\n",
    "model=LSTM_FCN_2_Atten(\n",
    "    data_len=span_len,\n",
    "    pre_len=pre_len,\n",
    "    input_dim=1,\n",
    "    hidden_dim=8,\n",
    "    num_layers=8\n",
    ")\n",
    "\n",
    "learning_rate=0.0015\n",
    "optimizer = optim.Adam(model.parameters(),lr=learning_rate)\n",
    "\n",
    "# Define the loss function\n",
    "# loss_fn = nn.SmoothL1Loss()  ## optional_1\n",
    "\n",
    "from utils.loss_fn.soft_dtw import SoftDTW\n",
    "# Create the \"criterion\" object\n",
    "loss_fn = SoftDTW(use_cuda=False, gamma=0.1)\n",
    "\n",
    "\n",
    "# Create the data loader\n",
    "if torch.cuda.is_available():\n",
    "    device=torch.device('cuda')\n",
    "else :\n",
    "    device=torch.device('cpu')\n",
    "# Train the model\n",
    "\n",
    "num_epochs = 100\n"
   ]
  },
  {
   "cell_type": "code",
   "execution_count": 14,
   "metadata": {},
   "outputs": [],
   "source": [
    "def train_and_evaluate(model, criterion, optimizer, train_loader, evaluate_loader,val_loader,train_fn,test_fn,device,num_epochs):\n",
    "    \"\"\"\n",
    "    Trains and evaluates a PyTorch model for time series forecasting.\n",
    "    \n",
    "    Args:\n",
    "        model: The PyTorch model to train and evaluate.\n",
    "        criterion: The loss function to use for training and evaluation.\n",
    "        optimizer: The optimizer to use for training.\n",
    "        train_loader (torch.utils.data.DataLoader): The data loader to use for training.\n",
    "        val_loader (torch.utils.data.DataLoader): The data loader to use for evaluation.\n",
    "        num_epochs (int): The number of epochs to train the model for.\n",
    "    \"\"\"\n",
    "    for epoch in range(num_epochs):\n",
    "        avg_train_loss=train_fn(optimizer, criterion, train_loader, model,device)\n",
    "        print(f\"Epoch [{epoch+1}/{num_epochs}], Train Loss: {avg_train_loss:.4f}\")\n",
    "        \n",
    "        # Evaluation loop\n",
    "        model.eval()\n",
    "        val_loss = test_fn(criterion, val_loader, model,device)\n",
    "        print(f\"Epoch [{epoch+1}/{num_epochs}], Val Loss: {val_loss:.4f}\")\n",
    "    \n",
    "    # Final evaluation on validation set\n",
    "    model.eval()\n",
    "    val_loss = test_fn(criterion, evaluate_loader, model,device)\n",
    "    print(f\"Final Val Loss: {val_loss:.4f}\")"
   ]
  },
  {
   "cell_type": "code",
   "execution_count": 15,
   "metadata": {},
   "outputs": [],
   "source": [
    "train_and_evaluate(\n",
    "    model=model,\n",
    "    criterion=loss_fn,\n",
    "    optimizer=optimizer,\n",
    "    train_loader=train_dataloader,\n",
    "    val_loader=val_dataloader,\n",
    "    evaluate_loader=test_dataloader,\n",
    "    train_fn=train_one_ep,\n",
    "    test_fn=evaluate_one_ep,\n",
    "    device=device,\n",
    "    num_epochs=num_epochs)"
   ]
  },
  {
   "cell_type": "code",
   "execution_count": null,
   "metadata": {},
   "outputs": [],
   "source": []
  }
 ],
 "metadata": {
  "kernelspec": {
   "display_name": "base",
   "language": "python",
   "name": "python3"
  },
  "language_info": {
   "codemirror_mode": {
    "name": "ipython",
    "version": 3
   },
   "file_extension": ".py",
   "mimetype": "text/x-python",
   "name": "python",
   "nbconvert_exporter": "python",
   "pygments_lexer": "ipython3",
   "version": "3.9.7"
  },
  "orig_nbformat": 4
 },
 "nbformat": 4,
 "nbformat_minor": 2
}
