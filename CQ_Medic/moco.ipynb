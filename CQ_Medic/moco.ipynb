{
 "cells": [
  {
   "cell_type": "code",
   "execution_count": 85,
   "metadata": {},
   "outputs": [
    {
     "name": "stdout",
     "output_type": "stream",
     "text": [
      "The autoreload extension is already loaded. To reload it, use:\n",
      "  %reload_ext autoreload\n"
     ]
    }
   ],
   "source": [
    "%load_ext autoreload\n",
    "%autoreload 2"
   ]
  },
  {
   "cell_type": "code",
   "execution_count": 86,
   "metadata": {},
   "outputs": [],
   "source": [
    "import torch\n",
    "import torch.optim as optim \n",
    "from utils.auxiliary_fn import moco_train_one_epoch,moco_evaluate_one_epoch,MOCO,MomentumEncoder,InfonceLoss\n",
    "\n",
    "from utils.loss_fn.standard_loss import mase_loss,huber_loss,log_cosh_loss,pinball_loss,wmape_loss,smape_loss"
   ]
  },
  {
   "attachments": {},
   "cell_type": "markdown",
   "metadata": {},
   "source": [
    "# split data"
   ]
  },
  {
   "cell_type": "code",
   "execution_count": 87,
   "metadata": {},
   "outputs": [
    {
     "name": "stdout",
     "output_type": "stream",
     "text": [
      "168\n",
      "torch.Size([8, 120, 2])\n",
      "torch.Size([8, 120, 2])\n",
      "torch.Size([8])\n"
     ]
    },
    {
     "name": "stderr",
     "output_type": "stream",
     "text": [
      "d:\\kobe\\lib\\site-packages\\sklearn\\preprocessing\\_data.py:2583: UserWarning: n_quantiles (1000) is greater than the total number of samples (182). n_quantiles is set to n_samples.\n",
      "  warnings.warn(\n",
      "d:\\kobe\\lib\\site-packages\\sklearn\\preprocessing\\_data.py:2583: UserWarning: n_quantiles (1000) is greater than the total number of samples (182). n_quantiles is set to n_samples.\n",
      "  warnings.warn(\n",
      "d:\\kobe\\lib\\site-packages\\sklearn\\preprocessing\\_data.py:2583: UserWarning: n_quantiles (1000) is greater than the total number of samples (182). n_quantiles is set to n_samples.\n",
      "  warnings.warn(\n",
      "d:\\kobe\\lib\\site-packages\\sklearn\\preprocessing\\_data.py:2583: UserWarning: n_quantiles (1000) is greater than the total number of samples (182). n_quantiles is set to n_samples.\n",
      "  warnings.warn(\n"
     ]
    }
   ],
   "source": [
    "from utils.train_val_test import moco_h_d_train,moco_h_d_val,moco_h_d_test,get_h_f_dataloader\n",
    "\n",
    "span_len=120\n",
    "pre_len=1\n",
    "batch_size=8\n",
    "\n",
    "train_dataset=moco_h_d_train(cut_len=span_len,slide_win_size=pre_len)\n",
    "val_dataset=moco_h_d_val(cut_len=span_len,slide_win_size=pre_len)\n",
    "test_dataset=moco_h_d_test(cut_len=span_len,slide_win_size=pre_len)\n",
    "\n",
    "\n",
    "train_dataloader=get_h_f_dataloader(train_dataset,batch_size,0)\n",
    "val_dataloader=get_h_f_dataloader(val_dataset,batch_size,0)\n",
    "test_dataloader=get_h_f_dataloader(test_dataset,batch_size,0)\n",
    "\n",
    "print(len(train_dataloader))\n",
    "\n",
    "x1,x2,y=next(iter(train_dataloader))\n",
    "# print(x)\n",
    "print(x1.shape)\n",
    "print(x2.shape)\n",
    "print(y.shape)\n",
    "\n",
    "\n"
   ]
  },
  {
   "cell_type": "markdown",
   "metadata": {},
   "source": [
    "# try transformer"
   ]
  },
  {
   "cell_type": "code",
   "execution_count": 88,
   "metadata": {},
   "outputs": [],
   "source": [
    "from models.LSTM_FCN import MOCO_LSTM_FCN_2_Atten\n",
    "from utils.loss_fn.soft_dtw import SoftDTW\n",
    "\n",
    "hidden_dim=64\n",
    "main_encoder=MOCO_LSTM_FCN_2_Atten(\n",
    "    data_len=span_len,\n",
    "    pre_len=pre_len,\n",
    "    input_dim=2,\n",
    "    hidden_dim=hidden_dim,\n",
    "    num_layers=4)\n",
    "\n",
    "momentum_encoder=MomentumEncoder(main_encoder)\n",
    "\n",
    "model=MOCO(\n",
    "    seq_len=span_len,\n",
    "    feature_dim=hidden_dim,\n",
    "    pre_len=pre_len,\n",
    "    main_model=main_encoder,\n",
    "    moco_model=momentum_encoder,\n",
    "    pred_los=mase_loss,\n",
    "    contras_los=InfonceLoss,\n",
    "    temperature=0.08,\n",
    "    lamba_1=0.2,\n",
    "    lambda_2=0.8,\n",
    "    )\n",
    "\n",
    "learning_rate=0.015\n",
    "# optimizer = optim.Adam(model.parameters(),lr=learning_rate,betas=(0.9,0.999))\n",
    "optimizer=optim.SGD(model.parameters(),lr=learning_rate)\n",
    "\n",
    "# Define the loss function\n",
    "# loss_fn = nn.SmoothL1Loss()  ## optional_1\n",
    "\n",
    "# from utils.loss_fn.soft_dtw import SoftDTW\n",
    "# # Create the \"criterion\" object\n",
    "# loss_fn = SoftDTW(use_cuda=False, gamma=0.1)\n",
    "\n",
    "\n",
    "# Create the data loader\n",
    "if torch.cuda.is_available():\n",
    "    device=torch.device('cuda')\n",
    "else :\n",
    "    device=torch.device('cpu')\n",
    "# Train the model\n",
    "\n",
    "num_epochs = 1000\n"
   ]
  },
  {
   "cell_type": "code",
   "execution_count": 89,
   "metadata": {},
   "outputs": [],
   "source": [
    "def train_and_evaluate(model, optimizer, train_loader, evaluate_loader,val_loader,train_fn,test_fn,device,num_epochs):\n",
    "    \"\"\"\n",
    "    Trains and evaluates a PyTorch model for time series forecasting.\n",
    "    \n",
    "    Args:\n",
    "        model: The PyTorch model to train and evaluate.\n",
    "        criterion: The loss function to use for training and evaluation.\n",
    "        optimizer: The optimizer to use for training.\n",
    "        train_loader (torch.utils.data.DataLoader): The data loader to use for training.\n",
    "        val_loader (torch.utils.data.DataLoader): The data loader to use for evaluation.\n",
    "        num_epochs (int): The number of epochs to train the model for.\n",
    "    \"\"\"\n",
    "    avg_train_loss_idx,val_loss_idx=100000,100000\n",
    "    for epoch in range(num_epochs):\n",
    "        avg_train_loss=train_fn(model, train_loader, optimizer, device, epoch)\n",
    "        if avg_train_loss<avg_train_loss_idx:\n",
    "            avg_train_loss_idx=avg_train_loss\n",
    "            print(f\"Epoch [{epoch+1}/{num_epochs}], Train Loss: {avg_train_loss:.4f}\")\n",
    "        \n",
    "        # Evaluation loop\n",
    "        model.eval()\n",
    "        val_loss = test_fn(model, val_loader, device, epoch)\n",
    "        if val_loss<val_loss_idx:\n",
    "            val_loss_idx=val_loss\n",
    "            print(f\"Epoch [{epoch+1}/{num_epochs}], Val Loss: {val_loss:.4f}\")\n",
    "    \n",
    "    # Final evaluation on validation set\n",
    "    model.eval()\n",
    "    val_loss = test_fn(model, evaluate_loader, device, epoch)\n",
    "    print(f\"Final Val Loss: {val_loss:.4f}\")"
   ]
  },
  {
   "cell_type": "code",
   "execution_count": 90,
   "metadata": {},
   "outputs": [
    {
     "name": "stdout",
     "output_type": "stream",
     "text": [
      "Epoch [1/1000], Train Loss: 8.9495\n",
      "Epoch [1/1000], Val Loss: 8.4950\n"
     ]
    }
   ],
   "source": [
    "train_and_evaluate(\n",
    "    model=model,\n",
    "    optimizer=optimizer,\n",
    "    train_loader=train_dataloader,\n",
    "    val_loader=val_dataloader,\n",
    "    evaluate_loader=test_dataloader,\n",
    "    train_fn=moco_train_one_epoch,\n",
    "    test_fn=moco_evaluate_one_epoch,\n",
    "    device=device,\n",
    "    num_epochs=num_epochs)"
   ]
  }
 ],
 "metadata": {
  "kernelspec": {
   "display_name": "base",
   "language": "python",
   "name": "python3"
  },
  "language_info": {
   "codemirror_mode": {
    "name": "ipython",
    "version": 3
   },
   "file_extension": ".py",
   "mimetype": "text/x-python",
   "name": "python",
   "nbconvert_exporter": "python",
   "pygments_lexer": "ipython3",
   "version": "3.9.7"
  },
  "orig_nbformat": 4
 },
 "nbformat": 4,
 "nbformat_minor": 2
}
